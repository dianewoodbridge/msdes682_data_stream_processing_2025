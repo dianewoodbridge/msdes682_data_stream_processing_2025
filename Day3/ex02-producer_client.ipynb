{
 "cells": [
  {
   "cell_type": "markdown",
   "id": "72e3eca8",
   "metadata": {},
   "source": [
    "Create a Kafka producer client using the given config, and produce 100 messages using `faker` of \n",
    "```\n",
    "{\n",
    "    'id': uuid4(),\n",
    "    'name': name(),\n",
    "    'email': email(),\n",
    "    'timestamp': time.time()\n",
    "}\n",
    "```\n",
    "to topic called `msds682.day3`"
   ]
  },
  {
   "cell_type": "code",
   "execution_count": 1,
   "id": "06dfa3d0",
   "metadata": {},
   "outputs": [],
   "source": [
    "import json\n",
    "import os\n",
    "import time\n",
    "\n",
    "from confluent_kafka import Producer\n",
    "from dotenv import load_dotenv\n",
    "from faker import Faker"
   ]
  },
  {
   "cell_type": "code",
   "execution_count": 2,
   "id": "d57df954",
   "metadata": {},
   "outputs": [
    {
     "data": {
      "text/plain": [
       "True"
      ]
     },
     "execution_count": 2,
     "metadata": {},
     "output_type": "execute_result"
    }
   ],
   "source": [
    "load_dotenv()"
   ]
  },
  {
   "cell_type": "code",
   "execution_count": 3,
   "id": "873a92f2",
   "metadata": {},
   "outputs": [],
   "source": [
    "conf = {\n",
    "        'bootstrap.servers': os.environ['CONFLUENT_SERVER'],\n",
    "        'security.protocol': 'SASL_SSL',\n",
    "        'sasl.mechanism': 'PLAIN',\n",
    "        'sasl.username': os.environ['CONFLUENT_API_KEY'],\n",
    "        'sasl.password': os.environ['CONFLUENT_API_SECRET'],\n",
    "    }"
   ]
  },
  {
   "cell_type": "code",
   "execution_count": 4,
   "id": "f5b9b9ae",
   "metadata": {},
   "outputs": [],
   "source": [
    "# Create the producer instance\n",
    "producer = Producer(conf)\n",
    "\n",
    "# Initialize data generator\n",
    "fake = Faker()"
   ]
  },
  {
   "cell_type": "code",
   "execution_count": 5,
   "id": "663557ce",
   "metadata": {},
   "outputs": [],
   "source": [
    "def delivery_report(err, msg):\n",
    "    \"\"\"\n",
    "    Called once for each message produced to indicate the delivery status.\n",
    "    \"\"\"\n",
    "    if err is not None:\n",
    "        print(f\"Message delivery failed: {err}\")\n",
    "    else:\n",
    "        print(f\"Message {msg.key()} delivered to topic '{msg.topic()}' to Partition {msg.partition()}\")"
   ]
  },
  {
   "cell_type": "code",
   "execution_count": 6,
   "id": "65b4def8",
   "metadata": {},
   "outputs": [
    {
     "name": "stderr",
     "output_type": "stream",
     "text": [
      "%6|1761151682.619|GETSUBSCRIPTIONS|rdkafka#producer-1| [thrd:main]: Telemetry client instance id changed from AAAAAAAAAAAAAAAAAAAAAA to 1UxjwbflTNGJgHal3KuUKQ\n"
     ]
    },
    {
     "name": "stdout",
     "output_type": "stream",
     "text": [
      "Message b'15caa426-e9e4-4289-a5ba-4cd55d196051' delivered to topic 'msds682.day3' to Partition 2\n",
      "Message b'13dd40a3-e5c0-4f86-b061-cd23415d1e9d' delivered to topic 'msds682.day3' to Partition 2\n",
      "Message b'1cbce282-7502-4c5a-97a6-3256fe7401e0' delivered to topic 'msds682.day3' to Partition 2\n",
      "Message b'eb0d9348-edf9-4db6-9638-df7379f4a79e' delivered to topic 'msds682.day3' to Partition 0\n",
      "Message b'5a64200a-5bc9-49ee-acbd-02f4365a7d29' delivered to topic 'msds682.day3' to Partition 4\n",
      "Message b'b99794fa-f75c-4722-8d53-5d31fb7c7d4d' delivered to topic 'msds682.day3' to Partition 0\n",
      "Message b'89663761-2c1c-47b5-b916-9186970dffea' delivered to topic 'msds682.day3' to Partition 0\n",
      "Message b'70431632-aa2c-4094-b798-a6cb984ae027' delivered to topic 'msds682.day3' to Partition 0\n",
      "Message b'eaf45680-b3da-4dd5-bd47-ab593d969ace' delivered to topic 'msds682.day3' to Partition 3\n",
      "Message b'7442f399-1683-4ef9-bca8-fb6b5c2dd1d7' delivered to topic 'msds682.day3' to Partition 3\n"
     ]
    },
    {
     "data": {
      "text/plain": [
       "0"
      ]
     },
     "execution_count": 6,
     "metadata": {},
     "output_type": "execute_result"
    }
   ],
   "source": [
    "for i in range(10):\n",
    "    # Generate mock user data\n",
    "    user_data = {\n",
    "        'id': fake.uuid4(),\n",
    "        'name': fake.name(),\n",
    "        'email': fake.email(),\n",
    "        'timestamp': time.time()\n",
    "    }\n",
    "    \n",
    "    # Serialize the data to a JSON string\n",
    "    json_data = json.dumps(user_data)\n",
    "    \n",
    "    # Produce the message to the Kafka topic\n",
    "    # `on_delivery` specifies the callback function.\n",
    "    producer.produce(\n",
    "        topic='msds682.day3',\n",
    "        key=str(user_data['id']),\n",
    "        value=json_data,\n",
    "        on_delivery=delivery_report\n",
    "    )\n",
    "    \n",
    "    # Flush any outstanding or buffered messages to the Kafka broker.\n",
    "    producer.poll(0)\n",
    "    \n",
    "    # Pause for a moment to simulate a real-time stream\n",
    "    time.sleep(1)\n",
    "\n",
    "producer.flush()"
   ]
  },
  {
   "cell_type": "markdown",
   "id": "f1bcf444",
   "metadata": {},
   "source": [
    "Example - What happens without poll() and flush()?"
   ]
  },
  {
   "cell_type": "code",
   "execution_count": 9,
   "id": "96249671",
   "metadata": {},
   "outputs": [
    {
     "ename": "BufferError",
     "evalue": "Local: Queue full",
     "output_type": "error",
     "traceback": [
      "\u001b[31m---------------------------------------------------------------------------\u001b[39m",
      "\u001b[31mBufferError\u001b[39m                               Traceback (most recent call last)",
      "\u001b[36mCell\u001b[39m\u001b[36m \u001b[39m\u001b[32mIn[9]\u001b[39m\u001b[32m, line 11\u001b[39m\n\u001b[32m      2\u001b[39m user_data = {\n\u001b[32m      3\u001b[39m     \u001b[33m'\u001b[39m\u001b[33mid\u001b[39m\u001b[33m'\u001b[39m: fake.uuid4(),\n\u001b[32m      4\u001b[39m     \u001b[33m'\u001b[39m\u001b[33mname\u001b[39m\u001b[33m'\u001b[39m: fake.name(),\n\u001b[32m      5\u001b[39m     \u001b[33m'\u001b[39m\u001b[33memail\u001b[39m\u001b[33m'\u001b[39m: fake.email(),\n\u001b[32m      6\u001b[39m     \u001b[33m'\u001b[39m\u001b[33mtimestamp\u001b[39m\u001b[33m'\u001b[39m: time.time()\n\u001b[32m      7\u001b[39m }\n\u001b[32m      9\u001b[39m json_data = json.dumps(user_data)\n\u001b[32m---> \u001b[39m\u001b[32m11\u001b[39m \u001b[43mproducer\u001b[49m\u001b[43m.\u001b[49m\u001b[43mproduce\u001b[49m\u001b[43m(\u001b[49m\n\u001b[32m     12\u001b[39m \u001b[43m    \u001b[49m\u001b[43mtopic\u001b[49m\u001b[43m=\u001b[49m\u001b[33;43m'\u001b[39;49m\u001b[33;43mmsds682.day3\u001b[39;49m\u001b[33;43m'\u001b[39;49m\u001b[43m,\u001b[49m\n\u001b[32m     13\u001b[39m \u001b[43m    \u001b[49m\u001b[43mkey\u001b[49m\u001b[43m=\u001b[49m\u001b[38;5;28;43mstr\u001b[39;49m\u001b[43m(\u001b[49m\u001b[43muser_data\u001b[49m\u001b[43m[\u001b[49m\u001b[33;43m'\u001b[39;49m\u001b[33;43mid\u001b[39;49m\u001b[33;43m'\u001b[39;49m\u001b[43m]\u001b[49m\u001b[43m)\u001b[49m\u001b[43m,\u001b[49m\n\u001b[32m     14\u001b[39m \u001b[43m    \u001b[49m\u001b[43mvalue\u001b[49m\u001b[43m=\u001b[49m\u001b[43mjson_data\u001b[49m\u001b[43m,\u001b[49m\n\u001b[32m     15\u001b[39m \u001b[43m\u001b[49m\u001b[43m)\u001b[49m\n",
      "\u001b[31mBufferError\u001b[39m: Local: Queue full"
     ]
    }
   ],
   "source": [
    "while True:\n",
    "    user_data = {\n",
    "        'id': fake.uuid4(),\n",
    "        'name': fake.name(),\n",
    "        'email': fake.email(),\n",
    "        'timestamp': time.time()\n",
    "    }\n",
    "    \n",
    "    json_data = json.dumps(user_data)\n",
    "    \n",
    "    producer.produce(\n",
    "        topic='msds682.day3',\n",
    "        key=str(user_data['id']),\n",
    "        value=json_data,\n",
    "    )"
   ]
  },
  {
   "cell_type": "code",
   "execution_count": null,
   "id": "2ac6c8d4",
   "metadata": {},
   "outputs": [],
   "source": []
  }
 ],
 "metadata": {
  "kernelspec": {
   "display_name": "msds682",
   "language": "python",
   "name": "python3"
  },
  "language_info": {
   "codemirror_mode": {
    "name": "ipython",
    "version": 3
   },
   "file_extension": ".py",
   "mimetype": "text/x-python",
   "name": "python",
   "nbconvert_exporter": "python",
   "pygments_lexer": "ipython3",
   "version": "3.12.12"
  }
 },
 "nbformat": 4,
 "nbformat_minor": 5
}
