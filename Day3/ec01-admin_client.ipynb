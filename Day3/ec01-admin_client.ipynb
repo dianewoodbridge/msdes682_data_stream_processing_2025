{
 "cells": [
  {
   "cell_type": "markdown",
   "id": "a33a4026",
   "metadata": {},
   "source": [
    "With the defined configuration, create a Kafka Admin client and create a new topic called msds682.day3."
   ]
  },
  {
   "cell_type": "code",
   "execution_count": null,
   "id": "a6ef57c9",
   "metadata": {},
   "outputs": [],
   "source": [
    "import os\n",
    "\n",
    "from confluent_kafka.admin import AdminClient, NewTopic\n",
    "from dotenv import load_dotenv"
   ]
  },
  {
   "cell_type": "code",
   "execution_count": null,
   "id": "4c5f9e18",
   "metadata": {},
   "outputs": [],
   "source": [
    "# Load environment variables from a .env file\n",
    "load_dotenv()"
   ]
  },
  {
   "cell_type": "code",
   "execution_count": null,
   "id": "87075f1a",
   "metadata": {},
   "outputs": [],
   "source": [
    "conf = {\n",
    "        'bootstrap.servers': os.environ['CONFLUENT_SERVER'],\n",
    "        'security.protocol': 'SASL_SSL',\n",
    "        'sasl.mechanism': 'PLAIN',\n",
    "        'sasl.username': os.environ['CONFLUENT_API_KEY'],\n",
    "        'sasl.password': os.environ['CONFLUENT_API_SECRET'],\n",
    "    }"
   ]
  },
  {
   "cell_type": "code",
   "execution_count": null,
   "id": "1220cec3",
   "metadata": {},
   "outputs": [],
   "source": [
    "admin_client = AdminClient(conf)"
   ]
  },
  {
   "cell_type": "code",
   "execution_count": null,
   "id": "7ef2f094",
   "metadata": {},
   "outputs": [],
   "source": [
    "new_topic = NewTopic(topic=\"msds682.day3\")\n",
    "fs = admin_client.create_topics([new_topic])"
   ]
  },
  {
   "cell_type": "code",
   "execution_count": null,
   "id": "99424e5b",
   "metadata": {},
   "outputs": [],
   "source": [
    "topic_list = admin_client.list_topics(timeout=10).topics\n",
    "topic_list"
   ]
  },
  {
   "cell_type": "code",
   "execution_count": null,
   "id": "ac187f0a",
   "metadata": {},
   "outputs": [],
   "source": []
  }
 ],
 "metadata": {
  "kernelspec": {
   "display_name": "msds682",
   "language": "python",
   "name": "python3"
  },
  "language_info": {
   "codemirror_mode": {
    "name": "ipython",
    "version": 3
   },
   "file_extension": ".py",
   "mimetype": "text/x-python",
   "name": "python",
   "nbconvert_exporter": "python",
   "pygments_lexer": "ipython3",
   "version": "3.12.12"
  }
 },
 "nbformat": 4,
 "nbformat_minor": 5
}
