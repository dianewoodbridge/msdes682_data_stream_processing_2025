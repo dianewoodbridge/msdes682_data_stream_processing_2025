{
 "cells": [
  {
   "cell_type": "markdown",
   "id": "72e3eca8",
   "metadata": {},
   "source": [
    "Create a Kafka producer client using the given config, and produce 100 messages using `faker` of \n",
    "```\n",
    "{\n",
    "    'id': uuid4(),\n",
    "    'name': name(),\n",
    "    'email': email(),\n",
    "    'timestamp': time.time()\n",
    "}\n",
    "```\n",
    "to topic called `msds682.day3`"
   ]
  },
  {
   "cell_type": "code",
   "execution_count": null,
   "id": "06dfa3d0",
   "metadata": {},
   "outputs": [],
   "source": [
    "import json\n",
    "import os\n",
    "import time\n",
    "\n",
    "from confluent_kafka import Producer\n",
    "from dotenv import load_dotenv\n",
    "from faker import Faker"
   ]
  },
  {
   "cell_type": "code",
   "execution_count": null,
   "id": "d57df954",
   "metadata": {},
   "outputs": [],
   "source": [
    "load_dotenv()"
   ]
  },
  {
   "cell_type": "code",
   "execution_count": null,
   "id": "873a92f2",
   "metadata": {},
   "outputs": [],
   "source": [
    "conf = {\n",
    "        'bootstrap.servers': os.environ['CONFLUENT_SERVER'],\n",
    "        'security.protocol': 'SASL_SSL',\n",
    "        'sasl.mechanism': 'PLAIN',\n",
    "        'sasl.username': os.environ['CONFLUENT_API_KEY'],\n",
    "        'sasl.password': os.environ['CONFLUENT_API_SECRET'],\n",
    "    }"
   ]
  },
  {
   "cell_type": "code",
   "execution_count": null,
   "id": "f5b9b9ae",
   "metadata": {},
   "outputs": [],
   "source": [
    "# Create the producer instance\n",
    "\n",
    "# Initialize data generator\n",
    "fake = Faker()"
   ]
  },
  {
   "cell_type": "code",
   "execution_count": null,
   "id": "663557ce",
   "metadata": {},
   "outputs": [],
   "source": [
    "def delivery_report(err, msg):\n",
    "    \"\"\"\n",
    "    Called once for each message produced to indicate the delivery status.\n",
    "    \"\"\"\n",
    "    if err is not None:\n",
    "        print(f\"Message delivery failed: {err}\")\n",
    "    else:\n",
    "        print(f\"Message {msg.key()} delivered to topic '{msg.topic()}' to Partition {msg.partition()}\")"
   ]
  },
  {
   "cell_type": "code",
   "execution_count": null,
   "id": "65b4def8",
   "metadata": {},
   "outputs": [],
   "source": [
    "for i in range(10):\n",
    "    # Generate mock user data\n",
    "    user_data = {\n",
    "        'id': fake.uuid4(),\n",
    "        'name': fake.name(),\n",
    "        'email': fake.email(),\n",
    "        'timestamp': time.time()\n",
    "    }\n",
    "    \n",
    "    # Serialize the data to a JSON string\n",
    "    json_data = json.dumps(user_data)\n",
    "    \n",
    "    # Produce the message to the Kafka topic\n",
    "    # `on_delivery` specifies the callback function.\n",
    "    \n",
    "    \n",
    "    # Flush any outstanding or buffered messages to the Kafka broker.\n",
    "    \n"
   ]
  },
  {
   "cell_type": "markdown",
   "id": "f1bcf444",
   "metadata": {},
   "source": [
    "Example - What happens without poll() and flush()?"
   ]
  },
  {
   "cell_type": "code",
   "execution_count": null,
   "id": "96249671",
   "metadata": {},
   "outputs": [],
   "source": [
    "while True:\n",
    "    user_data = {\n",
    "        'id': fake.uuid4(),\n",
    "        'name': fake.name(),\n",
    "        'email': fake.email(),\n",
    "        'timestamp': time.time()\n",
    "    }\n",
    "    \n",
    "    json_data = json.dumps(user_data)\n",
    "    \n",
    "    producer.produce(\n",
    "        topic='msds682.day3',\n",
    "        key=str(user_data['id']),\n",
    "        value=json_data,\n",
    "    )"
   ]
  },
  {
   "cell_type": "code",
   "execution_count": null,
   "id": "2ac6c8d4",
   "metadata": {},
   "outputs": [],
   "source": []
  }
 ],
 "metadata": {
  "kernelspec": {
   "display_name": "msds682",
   "language": "python",
   "name": "python3"
  },
  "language_info": {
   "codemirror_mode": {
    "name": "ipython",
    "version": 3
   },
   "file_extension": ".py",
   "mimetype": "text/x-python",
   "name": "python",
   "nbconvert_exporter": "python",
   "pygments_lexer": "ipython3",
   "version": "3.12.12"
  }
 },
 "nbformat": 4,
 "nbformat_minor": 5
}
