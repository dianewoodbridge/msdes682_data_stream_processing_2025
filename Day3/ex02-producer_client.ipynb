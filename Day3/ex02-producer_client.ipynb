{
 "cells": [
  {
   "cell_type": "markdown",
   "id": "72e3eca8",
   "metadata": {},
   "source": [
    "Create a Kafka producer client using the given config, and produce 100 messages using `faker` of \n",
    "```\n",
    "{\n",
    "    'id': uuid4(),\n",
    "    'name': name(),\n",
    "    'email': email(),\n",
    "    'timestamp': time.time()\n",
    "}\n",
    "```\n",
    "to topic called `msds682.day3`"
   ]
  },
  {
   "cell_type": "code",
   "execution_count": 1,
   "id": "06dfa3d0",
   "metadata": {},
   "outputs": [],
   "source": [
    "import json\n",
    "import os\n",
    "import time\n",
    "\n",
    "from confluent_kafka import Producer\n",
    "from dotenv import load_dotenv\n",
    "from faker import Faker"
   ]
  },
  {
   "cell_type": "code",
   "execution_count": 2,
   "id": "d57df954",
   "metadata": {},
   "outputs": [
    {
     "data": {
      "text/plain": [
       "True"
      ]
     },
     "execution_count": 2,
     "metadata": {},
     "output_type": "execute_result"
    }
   ],
   "source": [
    "load_dotenv()"
   ]
  },
  {
   "cell_type": "code",
   "execution_count": 3,
   "id": "873a92f2",
   "metadata": {},
   "outputs": [],
   "source": [
    "conf = {\n",
    "        'bootstrap.servers': os.environ['CONFLUENT_SERVER'],\n",
    "        'security.protocol': 'SASL_SSL',\n",
    "        'sasl.mechanism': 'PLAIN',\n",
    "        'sasl.username': os.environ['CONFLUENT_API_KEY'],\n",
    "        'sasl.password': os.environ['CONFLUENT_API_SECRET'],\n",
    "    }"
   ]
  },
  {
   "cell_type": "code",
   "execution_count": 4,
   "id": "f5b9b9ae",
   "metadata": {},
   "outputs": [],
   "source": [
    "# Create the producer instance\n",
    "producer = Producer(conf)\n",
    "\n",
    "# Initialize data generator\n",
    "fake = Faker()"
   ]
  },
  {
   "cell_type": "code",
   "execution_count": null,
   "id": "663557ce",
   "metadata": {},
   "outputs": [
    {
     "name": "stderr",
     "output_type": "stream",
     "text": [
      "%6|1761262945.077|GETSUBSCRIPTIONS|rdkafka#producer-1| [thrd:main]: Telemetry client instance id changed from AAAAAAAAAAAAAAAAAAAAAA to 2Cygn3oRTF6RTICnKVdMUw\n"
     ]
    }
   ],
   "source": [
    "def delivery_report(err, msg):\n",
    "    \"\"\"\n",
    "    Called once for each message produced to indicate the delivery status.\n",
    "    \"\"\"\n",
    "    if err is not None:\n",
    "        print(f\"Message delivery failed: {err}\")\n",
    "    else:\n",
    "        print(f\"Message {msg.key()} delivered to topic '{msg.topic()}' to Partition {msg.partition()}\")"
   ]
  },
  {
   "cell_type": "code",
   "execution_count": 6,
   "id": "65b4def8",
   "metadata": {},
   "outputs": [
    {
     "name": "stdout",
     "output_type": "stream",
     "text": [
      "Message b'398d442b-1e15-4959-b0b9-c9c915d4740b' delivered to topic 'msds682.day3' to Partition 5\n",
      "Message b'38e44973-178b-4ab7-a313-b8d829822cf3' delivered to topic 'msds682.day3' to Partition 0\n",
      "Message b'3f88ccda-a954-4f85-8580-c344469f354f' delivered to topic 'msds682.day3' to Partition 4\n",
      "Message b'f9b7891e-f12c-4f2d-98ca-fba23de48997' delivered to topic 'msds682.day3' to Partition 0\n",
      "Message b'7cfd2166-1966-4621-b5b6-ab3c26cf08ac' delivered to topic 'msds682.day3' to Partition 0\n",
      "Message b'126681d0-f466-4bfa-b65c-e403f5437c26' delivered to topic 'msds682.day3' to Partition 5\n",
      "Message b'60df81d0-1713-462a-8e40-98cb562f7587' delivered to topic 'msds682.day3' to Partition 2\n",
      "Message b'e2aae14f-6c4e-4fb9-aec1-275dca284840' delivered to topic 'msds682.day3' to Partition 5\n",
      "Message b'8be60074-1f26-4b0f-a4e9-e138fc7995cb' delivered to topic 'msds682.day3' to Partition 4\n",
      "Message b'14bfde56-7943-44ca-8d41-38bdf918f16a' delivered to topic 'msds682.day3' to Partition 3\n"
     ]
    },
    {
     "data": {
      "text/plain": [
       "0"
      ]
     },
     "execution_count": 6,
     "metadata": {},
     "output_type": "execute_result"
    }
   ],
   "source": [
    "for i in range(10):\n",
    "    # Generate mock user data\n",
    "    user_data = {\n",
    "        'id': fake.uuid4(),\n",
    "        'name': fake.name(),\n",
    "        'email': fake.email(),\n",
    "        'timestamp': time.time()\n",
    "    }\n",
    "    \n",
    "    # Serialize the data to a JSON string\n",
    "    json_data = json.dumps(user_data)\n",
    "    \n",
    "    # Produce the message to the Kafka topic\n",
    "    # `on_delivery` specifies the callback function.\n",
    "    producer.produce(\n",
    "        topic='msds682.day3',\n",
    "        key=str(user_data['id']),\n",
    "        value=json_data,\n",
    "        on_delivery=delivery_report\n",
    "    )\n",
    "    \n",
    "    # Flush any outstanding or buffered messages to the Kafka broker.\n",
    "    producer.poll(0)\n",
    "    \n",
    "    # Pause for a moment to simulate a real-time stream\n",
    "    time.sleep(1)\n",
    "\n",
    "producer.flush()"
   ]
  },
  {
   "cell_type": "markdown",
   "id": "f1bcf444",
   "metadata": {},
   "source": [
    "Example - What happens without poll() and flush()?"
   ]
  },
  {
   "cell_type": "code",
   "execution_count": 7,
   "id": "96249671",
   "metadata": {},
   "outputs": [
    {
     "ename": "KeyboardInterrupt",
     "evalue": "",
     "output_type": "error",
     "traceback": [
      "\u001b[31m---------------------------------------------------------------------------\u001b[39m",
      "\u001b[31mKeyboardInterrupt\u001b[39m                         Traceback (most recent call last)",
      "\u001b[36mCell\u001b[39m\u001b[36m \u001b[39m\u001b[32mIn[7]\u001b[39m\u001b[32m, line 4\u001b[39m\n\u001b[32m      1\u001b[39m \u001b[38;5;28;01mwhile\u001b[39;00m \u001b[38;5;28;01mTrue\u001b[39;00m:\n\u001b[32m      2\u001b[39m     user_data = {\n\u001b[32m      3\u001b[39m         \u001b[33m'\u001b[39m\u001b[33mid\u001b[39m\u001b[33m'\u001b[39m: fake.uuid4(),\n\u001b[32m----> \u001b[39m\u001b[32m4\u001b[39m         \u001b[33m'\u001b[39m\u001b[33mname\u001b[39m\u001b[33m'\u001b[39m: \u001b[43mfake\u001b[49m\u001b[43m.\u001b[49m\u001b[43mname\u001b[49m\u001b[43m(\u001b[49m\u001b[43m)\u001b[49m,\n\u001b[32m      5\u001b[39m         \u001b[33m'\u001b[39m\u001b[33memail\u001b[39m\u001b[33m'\u001b[39m: fake.email(),\n\u001b[32m      6\u001b[39m         \u001b[33m'\u001b[39m\u001b[33mtimestamp\u001b[39m\u001b[33m'\u001b[39m: time.time()\n\u001b[32m      7\u001b[39m     }\n\u001b[32m      9\u001b[39m     json_data = json.dumps(user_data)\n\u001b[32m     11\u001b[39m     producer.produce(\n\u001b[32m     12\u001b[39m         topic=\u001b[33m'\u001b[39m\u001b[33mmsds682.day3\u001b[39m\u001b[33m'\u001b[39m,\n\u001b[32m     13\u001b[39m         key=\u001b[38;5;28mstr\u001b[39m(user_data[\u001b[33m'\u001b[39m\u001b[33mid\u001b[39m\u001b[33m'\u001b[39m]),\n\u001b[32m     14\u001b[39m         value=json_data,\n\u001b[32m     15\u001b[39m     )\n",
      "\u001b[36mFile \u001b[39m\u001b[32m/opt/homebrew/anaconda3/envs/msds682/lib/python3.12/site-packages/faker/providers/person/__init__.py:206\u001b[39m, in \u001b[36mProvider.name\u001b[39m\u001b[34m(self)\u001b[39m\n\u001b[32m    202\u001b[39m \u001b[38;5;250m\u001b[39m\u001b[33;03m\"\"\"\u001b[39;00m\n\u001b[32m    203\u001b[39m \u001b[33;03m:example: 'John Doe'\u001b[39;00m\n\u001b[32m    204\u001b[39m \u001b[33;03m\"\"\"\u001b[39;00m\n\u001b[32m    205\u001b[39m pattern: \u001b[38;5;28mstr\u001b[39m = \u001b[38;5;28mself\u001b[39m.random_element(\u001b[38;5;28mself\u001b[39m.formats)\n\u001b[32m--> \u001b[39m\u001b[32m206\u001b[39m \u001b[38;5;28;01mreturn\u001b[39;00m \u001b[38;5;28;43mself\u001b[39;49m\u001b[43m.\u001b[49m\u001b[43mgenerator\u001b[49m\u001b[43m.\u001b[49m\u001b[43mparse\u001b[49m\u001b[43m(\u001b[49m\u001b[43mpattern\u001b[49m\u001b[43m)\u001b[49m\n",
      "\u001b[36mFile \u001b[39m\u001b[32m/opt/homebrew/anaconda3/envs/msds682/lib/python3.12/site-packages/faker/generator.py:175\u001b[39m, in \u001b[36mGenerator.parse\u001b[39m\u001b[34m(self, text)\u001b[39m\n\u001b[32m    161\u001b[39m \u001b[38;5;28;01mdef\u001b[39;00m\u001b[38;5;250m \u001b[39m\u001b[34mparse\u001b[39m(\u001b[38;5;28mself\u001b[39m, text: \u001b[38;5;28mstr\u001b[39m) -> \u001b[38;5;28mstr\u001b[39m:\n\u001b[32m    162\u001b[39m \u001b[38;5;250m    \u001b[39m\u001b[33;03m\"\"\"\u001b[39;00m\n\u001b[32m    163\u001b[39m \u001b[33;03m    Replaces tokens like '{{ tokenName }}' or '{{tokenName}}' in a string with\u001b[39;00m\n\u001b[32m    164\u001b[39m \u001b[33;03m    the result from the token method call. Arguments can be parsed by using an\u001b[39;00m\n\u001b[32m   (...)\u001b[39m\u001b[32m    173\u001b[39m \u001b[33;03m    generator.parse('{{ color:red_rgb }} - {{ pyint:small }}')\u001b[39;00m\n\u001b[32m    174\u001b[39m \u001b[33;03m    \"\"\"\u001b[39;00m\n\u001b[32m--> \u001b[39m\u001b[32m175\u001b[39m     \u001b[38;5;28;01mreturn\u001b[39;00m \u001b[43m_re_token\u001b[49m\u001b[43m.\u001b[49m\u001b[43msub\u001b[49m\u001b[43m(\u001b[49m\u001b[38;5;28;43mself\u001b[39;49m\u001b[43m.\u001b[49m\u001b[43m__format_token\u001b[49m\u001b[43m,\u001b[49m\u001b[43m \u001b[49m\u001b[43mtext\u001b[49m\u001b[43m)\u001b[49m\n",
      "\u001b[36mFile \u001b[39m\u001b[32m/opt/homebrew/anaconda3/envs/msds682/lib/python3.12/site-packages/faker/generator.py:189\u001b[39m, in \u001b[36mGenerator.__format_token\u001b[39m\u001b[34m(self, matches)\u001b[39m\n\u001b[32m    187\u001b[39m     formatted = \u001b[38;5;28mstr\u001b[39m(\u001b[38;5;28mself\u001b[39m.format(formatter, **arguments))\n\u001b[32m    188\u001b[39m \u001b[38;5;28;01melse\u001b[39;00m:\n\u001b[32m--> \u001b[39m\u001b[32m189\u001b[39m     formatted = \u001b[38;5;28mstr\u001b[39m(\u001b[38;5;28;43mself\u001b[39;49m\u001b[43m.\u001b[49m\u001b[43mformat\u001b[49m\u001b[43m(\u001b[49m\u001b[43mformatter\u001b[49m\u001b[43m)\u001b[49m)\n\u001b[32m    191\u001b[39m \u001b[38;5;28;01mreturn\u001b[39;00m \u001b[33m\"\u001b[39m\u001b[33m\"\u001b[39m.join(formatted)\n",
      "\u001b[36mFile \u001b[39m\u001b[32m/opt/homebrew/anaconda3/envs/msds682/lib/python3.12/site-packages/faker/generator.py:88\u001b[39m, in \u001b[36mGenerator.format\u001b[39m\u001b[34m(self, formatter, *args, **kwargs)\u001b[39m\n\u001b[32m     84\u001b[39m \u001b[38;5;28;01mdef\u001b[39;00m\u001b[38;5;250m \u001b[39m\u001b[34mformat\u001b[39m(\u001b[38;5;28mself\u001b[39m, formatter: \u001b[38;5;28mstr\u001b[39m, *args: Any, **kwargs: Any) -> \u001b[38;5;28mstr\u001b[39m:\n\u001b[32m     85\u001b[39m \u001b[38;5;250m    \u001b[39m\u001b[33;03m\"\"\"\u001b[39;00m\n\u001b[32m     86\u001b[39m \u001b[33;03m    This is a secure way to make a fake from another Provider.\u001b[39;00m\n\u001b[32m     87\u001b[39m \u001b[33;03m    \"\"\"\u001b[39;00m\n\u001b[32m---> \u001b[39m\u001b[32m88\u001b[39m     \u001b[38;5;28;01mreturn\u001b[39;00m \u001b[38;5;28;43mself\u001b[39;49m\u001b[43m.\u001b[49m\u001b[43mget_formatter\u001b[49m\u001b[43m(\u001b[49m\u001b[43mformatter\u001b[49m\u001b[43m)\u001b[49m\u001b[43m(\u001b[49m\u001b[43m*\u001b[49m\u001b[43margs\u001b[49m\u001b[43m,\u001b[49m\u001b[43m \u001b[49m\u001b[43m*\u001b[49m\u001b[43m*\u001b[49m\u001b[43mkwargs\u001b[49m\u001b[43m)\u001b[49m\n",
      "\u001b[36mFile \u001b[39m\u001b[32m/opt/homebrew/anaconda3/envs/msds682/lib/python3.12/site-packages/faker/providers/person/__init__.py:250\u001b[39m, in \u001b[36mProvider.first_name_female\u001b[39m\u001b[34m(self)\u001b[39m\n\u001b[32m    248\u001b[39m \u001b[38;5;28;01mdef\u001b[39;00m\u001b[38;5;250m \u001b[39m\u001b[34mfirst_name_female\u001b[39m(\u001b[38;5;28mself\u001b[39m) -> \u001b[38;5;28mstr\u001b[39m:\n\u001b[32m    249\u001b[39m     \u001b[38;5;28;01mif\u001b[39;00m \u001b[38;5;28mhasattr\u001b[39m(\u001b[38;5;28mself\u001b[39m, \u001b[33m\"\u001b[39m\u001b[33mfirst_names_female\u001b[39m\u001b[33m\"\u001b[39m):\n\u001b[32m--> \u001b[39m\u001b[32m250\u001b[39m         \u001b[38;5;28;01mreturn\u001b[39;00m \u001b[38;5;28;43mself\u001b[39;49m\u001b[43m.\u001b[49m\u001b[43mrandom_element\u001b[49m\u001b[43m(\u001b[49m\u001b[38;5;28;43mself\u001b[39;49m\u001b[43m.\u001b[49m\u001b[43mfirst_names_female\u001b[49m\u001b[43m)\u001b[49m  \u001b[38;5;66;03m# type: ignore[attr-defined]\u001b[39;00m\n\u001b[32m    251\u001b[39m     \u001b[38;5;28;01mreturn\u001b[39;00m \u001b[38;5;28mself\u001b[39m.first_name()\n",
      "\u001b[36mFile \u001b[39m\u001b[32m/opt/homebrew/anaconda3/envs/msds682/lib/python3.12/site-packages/faker/providers/__init__.py:554\u001b[39m, in \u001b[36mBaseProvider.random_element\u001b[39m\u001b[34m(self, elements)\u001b[39m\n\u001b[32m    537\u001b[39m \u001b[38;5;28;01mdef\u001b[39;00m\u001b[38;5;250m \u001b[39m\u001b[34mrandom_element\u001b[39m(\u001b[38;5;28mself\u001b[39m, elements: ElementsType[T] = (\u001b[33m\"\u001b[39m\u001b[33ma\u001b[39m\u001b[33m\"\u001b[39m, \u001b[33m\"\u001b[39m\u001b[33mb\u001b[39m\u001b[33m\"\u001b[39m, \u001b[33m\"\u001b[39m\u001b[33mc\u001b[39m\u001b[33m\"\u001b[39m)) -> T:  \u001b[38;5;66;03m# type: ignore[assignment]\u001b[39;00m\n\u001b[32m    538\u001b[39m \u001b[38;5;250m    \u001b[39m\u001b[33;03m\"\"\"Generate a randomly sampled object from ``elements``.\u001b[39;00m\n\u001b[32m    539\u001b[39m \n\u001b[32m    540\u001b[39m \u001b[33;03m    For information on the ``elements`` argument, please refer to\u001b[39;00m\n\u001b[32m   (...)\u001b[39m\u001b[32m    551\u001b[39m \u001b[33;03m             ])\u001b[39;00m\n\u001b[32m    552\u001b[39m \u001b[33;03m    \"\"\"\u001b[39;00m\n\u001b[32m--> \u001b[39m\u001b[32m554\u001b[39m     \u001b[38;5;28;01mreturn\u001b[39;00m \u001b[38;5;28;43mself\u001b[39;49m\u001b[43m.\u001b[49m\u001b[43mrandom_elements\u001b[49m\u001b[43m(\u001b[49m\u001b[43melements\u001b[49m\u001b[43m,\u001b[49m\u001b[43m \u001b[49m\u001b[43mlength\u001b[49m\u001b[43m=\u001b[49m\u001b[32;43m1\u001b[39;49m\u001b[43m)\u001b[49m[\u001b[32m0\u001b[39m]\n",
      "\u001b[36mFile \u001b[39m\u001b[32m/opt/homebrew/anaconda3/envs/msds682/lib/python3.12/site-packages/faker/providers/__init__.py:502\u001b[39m, in \u001b[36mBaseProvider.random_elements\u001b[39m\u001b[34m(self, elements, length, unique, use_weighting)\u001b[39m\n\u001b[32m    499\u001b[39m     choices = elements\n\u001b[32m    500\u001b[39m     probabilities = \u001b[38;5;28;01mNone\u001b[39;00m\n\u001b[32m--> \u001b[39m\u001b[32m502\u001b[39m \u001b[38;5;28;01mreturn\u001b[39;00m \u001b[43mfn\u001b[49m\u001b[43m(\u001b[49m\n\u001b[32m    503\u001b[39m \u001b[43m    \u001b[49m\u001b[38;5;28;43mtuple\u001b[39;49m\u001b[43m(\u001b[49m\u001b[43mchoices\u001b[49m\u001b[43m)\u001b[49m\u001b[43m,\u001b[49m\n\u001b[32m    504\u001b[39m \u001b[43m    \u001b[49m\u001b[43mprobabilities\u001b[49m\u001b[43m,\u001b[49m\n\u001b[32m    505\u001b[39m \u001b[43m    \u001b[49m\u001b[38;5;28;43mself\u001b[39;49m\u001b[43m.\u001b[49m\u001b[43mgenerator\u001b[49m\u001b[43m.\u001b[49m\u001b[43mrandom\u001b[49m\u001b[43m,\u001b[49m\n\u001b[32m    506\u001b[39m \u001b[43m    \u001b[49m\u001b[43mlength\u001b[49m\u001b[43m=\u001b[49m\u001b[43mlength\u001b[49m\u001b[43m,\u001b[49m\n\u001b[32m    507\u001b[39m \u001b[43m\u001b[49m\u001b[43m)\u001b[49m\n",
      "\u001b[36mFile \u001b[39m\u001b[32m/opt/homebrew/anaconda3/envs/msds682/lib/python3.12/site-packages/faker/utils/distribution.py:73\u001b[39m, in \u001b[36mchoices_distribution\u001b[39m\u001b[34m(a, p, random, length)\u001b[39m\n\u001b[32m     71\u001b[39m         \u001b[38;5;28;01mreturn\u001b[39;00m [random.choice(a)]\n\u001b[32m     72\u001b[39m     \u001b[38;5;28;01melse\u001b[39;00m:\n\u001b[32m---> \u001b[39m\u001b[32m73\u001b[39m         \u001b[38;5;28;01mreturn\u001b[39;00m \u001b[43mrandom\u001b[49m\u001b[43m.\u001b[49m\u001b[43mchoices\u001b[49m\u001b[43m(\u001b[49m\u001b[43ma\u001b[49m\u001b[43m,\u001b[49m\u001b[43m \u001b[49m\u001b[43mweights\u001b[49m\u001b[43m=\u001b[49m\u001b[43mp\u001b[49m\u001b[43m,\u001b[49m\u001b[43m \u001b[49m\u001b[43mk\u001b[49m\u001b[43m=\u001b[49m\u001b[43mlength\u001b[49m\u001b[43m)\u001b[49m\n\u001b[32m     74\u001b[39m \u001b[38;5;28;01melse\u001b[39;00m:\n\u001b[32m     75\u001b[39m     choices = []\n",
      "\u001b[36mFile \u001b[39m\u001b[32m/opt/homebrew/anaconda3/envs/msds682/lib/python3.12/random.py:469\u001b[39m, in \u001b[36mRandom.choices\u001b[39m\u001b[34m(self, population, weights, cum_weights, k)\u001b[39m\n\u001b[32m    467\u001b[39m     \u001b[38;5;28;01mreturn\u001b[39;00m [population[floor(random() * n)] \u001b[38;5;28;01mfor\u001b[39;00m i \u001b[38;5;129;01min\u001b[39;00m _repeat(\u001b[38;5;28;01mNone\u001b[39;00m, k)]\n\u001b[32m    468\u001b[39m \u001b[38;5;28;01mtry\u001b[39;00m:\n\u001b[32m--> \u001b[39m\u001b[32m469\u001b[39m     cum_weights = \u001b[38;5;28;43mlist\u001b[39;49m\u001b[43m(\u001b[49m\u001b[43m_accumulate\u001b[49m\u001b[43m(\u001b[49m\u001b[43mweights\u001b[49m\u001b[43m)\u001b[49m\u001b[43m)\u001b[49m\n\u001b[32m    470\u001b[39m \u001b[38;5;28;01mexcept\u001b[39;00m \u001b[38;5;167;01mTypeError\u001b[39;00m:\n\u001b[32m    471\u001b[39m     \u001b[38;5;28;01mif\u001b[39;00m \u001b[38;5;129;01mnot\u001b[39;00m \u001b[38;5;28misinstance\u001b[39m(weights, \u001b[38;5;28mint\u001b[39m):\n",
      "\u001b[31mKeyboardInterrupt\u001b[39m: "
     ]
    }
   ],
   "source": [
    "while True:\n",
    "    user_data = {\n",
    "        'id': fake.uuid4(),\n",
    "        'name': fake.name(),\n",
    "        'email': fake.email(),\n",
    "        'timestamp': time.time()\n",
    "    }\n",
    "    \n",
    "    json_data = json.dumps(user_data)\n",
    "    \n",
    "    producer.produce(\n",
    "        topic='msds682.day3',\n",
    "        key=str(user_data['id']),\n",
    "        value=json_data,\n",
    "    )"
   ]
  },
  {
   "cell_type": "code",
   "execution_count": null,
   "id": "2ac6c8d4",
   "metadata": {},
   "outputs": [],
   "source": []
  }
 ],
 "metadata": {
  "kernelspec": {
   "display_name": "msds682",
   "language": "python",
   "name": "python3"
  },
  "language_info": {
   "codemirror_mode": {
    "name": "ipython",
    "version": 3
   },
   "file_extension": ".py",
   "mimetype": "text/x-python",
   "name": "python",
   "nbconvert_exporter": "python",
   "pygments_lexer": "ipython3",
   "version": "3.12.12"
  }
 },
 "nbformat": 4,
 "nbformat_minor": 5
}
